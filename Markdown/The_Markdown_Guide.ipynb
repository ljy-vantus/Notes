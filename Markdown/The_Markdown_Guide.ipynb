{
 "cells": [
  {
   "cell_type": "markdown",
   "id": "a01f7cdc-dfc6-45a1-bf41-3f1659c4af0f",
   "metadata": {},
   "source": [
    "# 3. Basic Syntax"
   ]
  },
  {
   "cell_type": "markdown",
   "id": "3519e3e9-82e6-4bcb-b33d-c220a37c16da",
   "metadata": {},
   "source": [
    "## * Headings"
   ]
  },
  {
   "cell_type": "markdown",
   "id": "b96d137a-6704-497d-b8aa-d7cdef9c2576",
   "metadata": {},
   "source": [
    "# Heading level 1\n",
    "## Heading level 2\n",
    "### Heading level 3\n",
    "#### Heading level 4\n",
    "##### Heading level 5\n",
    "###### Heading level 6"
   ]
  },
  {
   "cell_type": "markdown",
   "id": "8b395f62-b265-4339-986b-a8c91db3d6f0",
   "metadata": {},
   "source": [
    "## * Alternate Syntax"
   ]
  },
  {
   "cell_type": "markdown",
   "id": "f1d7ff92-ba63-4844-a155-b781686d39b6",
   "metadata": {},
   "source": [
    "Heading level 1\n",
    "===============\n",
    "Heading level 2\n",
    "---------------"
   ]
  },
  {
   "cell_type": "markdown",
   "id": "91a503a4-26c3-402c-b330-613b1ce19257",
   "metadata": {},
   "source": [
    "## * Paragraphs"
   ]
  },
  {
   "cell_type": "markdown",
   "id": "f861bf4e-24cc-46fe-8a7b-5c679a6ee1b6",
   "metadata": {},
   "source": [
    "I really like using Markdown.\n",
    "\n",
    "I think I'll use it from now on."
   ]
  },
  {
   "cell_type": "markdown",
   "id": "1dc27428-bafe-42bf-8975-de27a8b8afca",
   "metadata": {},
   "source": [
    "## * Line Breaks"
   ]
  },
  {
   "cell_type": "markdown",
   "id": "40101d8c-6dd2-4192-9698-0cfcd0239cbf",
   "metadata": {},
   "source": [
    "This is the first line.  \n",
    "And this is the second line."
   ]
  },
  {
   "cell_type": "markdown",
   "id": "79f8346c-075a-4ba9-9b7a-b10f0d1b9112",
   "metadata": {},
   "source": [
    "## * Emphasis"
   ]
  },
  {
   "cell_type": "markdown",
   "id": "3a08813f-e3e5-4d6d-9e0c-28e65c944f33",
   "metadata": {},
   "source": [
    "### ** Bold"
   ]
  },
  {
   "cell_type": "markdown",
   "id": "026a5286-5cc6-4e23-ad5d-36a55377a410",
   "metadata": {},
   "source": [
    "I love **bold text**.\n",
    "\n",
    "I love __bold text__.\n",
    "\n",
    "Love**is**bold"
   ]
  },
  {
   "cell_type": "markdown",
   "id": "16ea5090-f074-4449-8af3-3960f8bc1e69",
   "metadata": {},
   "source": [
    "### ** Italic"
   ]
  },
  {
   "cell_type": "markdown",
   "id": "ca0756a8-2ec5-4f6a-a5f0-e6581a2b2e01",
   "metadata": {},
   "source": [
    "The *cat's meow*.\n",
    "\n",
    "The _cat's meow_.\n",
    "\n",
    "A*cat*meow"
   ]
  },
  {
   "cell_type": "markdown",
   "id": "4ca31155-26ee-4075-adf5-948cc5c80984",
   "metadata": {},
   "source": [
    "### ** Bold and Italic"
   ]
  },
  {
   "cell_type": "markdown",
   "id": "5504f9a1-b4e3-44ce-85c2-fcfafd5244df",
   "metadata": {},
   "source": [
    "***Important*** text.\n",
    "\n",
    "___Important___ text.\n",
    "\n",
    "__*Important*__ text.\n",
    "\n",
    "**_Important_** text."
   ]
  },
  {
   "cell_type": "markdown",
   "id": "9391e076-391e-4428-b4bd-1a67955c4b10",
   "metadata": {},
   "source": [
    "### * Blockquotes"
   ]
  },
  {
   "cell_type": "markdown",
   "id": "4e783639-138a-4845-90eb-4ffec4e97d82",
   "metadata": {},
   "source": [
    "> Dorothy followed her through many rooms."
   ]
  },
  {
   "cell_type": "markdown",
   "id": "42c301c8-142e-4e8e-9c17-eafb3ed9fe31",
   "metadata": {},
   "source": [
    "### ** Blockquotes with Multiple Paragraphs"
   ]
  },
  {
   "cell_type": "markdown",
   "id": "2afb816c-16c2-442f-8908-362516e550a1",
   "metadata": {},
   "source": [
    "> This is the first paragraph.\n",
    ">\n",
    "> And this is the second paragraph."
   ]
  },
  {
   "cell_type": "markdown",
   "id": "55628aed-29fd-4e66-8790-55647d81b199",
   "metadata": {},
   "source": [
    "### ** Nested Blockquotes"
   ]
  },
  {
   "cell_type": "markdown",
   "id": "8e09e8db-6637-40fd-b2a2-64edcdb31218",
   "metadata": {},
   "source": [
    ">This is the first paragraph.\n",
    ">\n",
    ">> And this is the nested paragraph."
   ]
  },
  {
   "cell_type": "markdown",
   "id": "c6850bb3-a751-4ee4-989f-33d32ecabb74",
   "metadata": {},
   "source": [
    "### ** Blockquotes with Other Elements"
   ]
  },
  {
   "cell_type": "markdown",
   "id": "3633994e-f318-463c-b7c6-045e1f6f2818",
   "metadata": {},
   "source": [
    "> ##### The quarterly results look great!\n",
    ">\n",
    "> - Revenue was off the chart.\n",
    "> - Profits were higher than ever.\n",
    ">\n",
    "> *Everything* is going **well**."
   ]
  },
  {
   "cell_type": "markdown",
   "id": "d3519a23-67ae-4d43-8439-3b8b23dd527f",
   "metadata": {},
   "source": [
    "## * List"
   ]
  },
  {
   "cell_type": "markdown",
   "id": "7cb2377d-6b5d-4624-a9ce-6f9b79f37051",
   "metadata": {},
   "source": [
    "### ** Ordered Lists"
   ]
  },
  {
   "cell_type": "markdown",
   "id": "b3dd09f1-f031-472c-9320-328373a3523b",
   "metadata": {},
   "source": [
    "1. First item\n",
    "2. Second item\n",
    "3. Third item\n",
    "4. Fourth item"
   ]
  },
  {
   "cell_type": "markdown",
   "id": "a7ec90d1-cb32-4f33-b93c-cecf1e61c3fa",
   "metadata": {},
   "source": [
    "1. First item\n",
    "1. Second item\n",
    "1. Third item\n",
    "1. Fourth item"
   ]
  },
  {
   "cell_type": "markdown",
   "id": "2322e35c-649f-4132-8446-b6bf72fc186b",
   "metadata": {},
   "source": [
    "1. First item\n",
    "8. Second item\n",
    "3. Third item\n",
    "5. Fourth item"
   ]
  },
  {
   "cell_type": "markdown",
   "id": "ef2fd08e-aade-4884-a68f-132819b517c6",
   "metadata": {},
   "source": [
    "### ** Nesting List Items"
   ]
  },
  {
   "cell_type": "markdown",
   "id": "b48ebb3a-d4a2-4c5a-a008-b169f88d6e67",
   "metadata": {},
   "source": [
    "1. First item\n",
    "2. Second item\n",
    "3. Third item\n",
    "    1. Indented item\n",
    "    2. Indented item\n",
    "4. Fourth item"
   ]
  },
  {
   "cell_type": "markdown",
   "id": "d210a282-a6d5-458a-a5bc-208415ef3731",
   "metadata": {},
   "source": [
    "### ** Unordered Lists"
   ]
  },
  {
   "cell_type": "markdown",
   "id": "5ba956d5-b577-4b64-a322-eb3d4f299ceb",
   "metadata": {},
   "source": [
    "- First item\n",
    "- Second item\n",
    "- Third item\n",
    "- Fourth item"
   ]
  },
  {
   "cell_type": "markdown",
   "id": "9d5ece1b-723d-41ab-87dc-d5c8e45a9597",
   "metadata": {},
   "source": [
    "* First item\n",
    "* Second item\n",
    "* Third item\n",
    "* Fourth item"
   ]
  },
  {
   "cell_type": "markdown",
   "id": "741a42e3-862a-49e7-a740-3e31629672f1",
   "metadata": {},
   "source": [
    "+ First item\n",
    "* Second item\n",
    "+ Third item\n",
    "* Fourth item"
   ]
  },
  {
   "cell_type": "markdown",
   "id": "433c2abb-8449-4ed6-9ecc-cd303809a7e3",
   "metadata": {},
   "source": [
    "### ** Nesting List Items"
   ]
  },
  {
   "cell_type": "markdown",
   "id": "e365b446-c43c-4c39-9651-4030ad326b18",
   "metadata": {},
   "source": [
    "- First item\n",
    "- Second item\n",
    "- Third item\n",
    "    - Indented item\n",
    "    - Indented item\n",
    "- Fourth item"
   ]
  },
  {
   "cell_type": "markdown",
   "id": "c8bef41e-a109-48d0-a1be-83e428531321",
   "metadata": {},
   "source": [
    "### ** Adding Elements in Lists"
   ]
  },
  {
   "cell_type": "markdown",
   "id": "de978658-b39d-4d9f-909c-f013100d9718",
   "metadata": {},
   "source": [
    "#### *** Paragraph"
   ]
  },
  {
   "cell_type": "markdown",
   "id": "195b8b87-4d2a-4d17-bc67-09e2a20dba98",
   "metadata": {},
   "source": [
    "* This is the first list item.\n",
    "* Here's the second list item.\n",
    "\n",
    "    I need to add another paragraph below the second list item.\n",
    "    \n",
    "* And here's the third list item."
   ]
  },
  {
   "cell_type": "markdown",
   "id": "6278aa78-2669-455c-aaec-1fb4153aeb2c",
   "metadata": {},
   "source": [
    "#### *** Blockquotes"
   ]
  },
  {
   "cell_type": "markdown",
   "id": "f63456f4-386c-4ca4-af84-403a320ae6e2",
   "metadata": {},
   "source": [
    "* This is the first list item.\n",
    "* Here's the second list item.\n",
    "\n",
    "    > I need to add another paragraph below the second list item.\n",
    "    \n",
    "* And here's the third list item."
   ]
  },
  {
   "cell_type": "markdown",
   "id": "67fcd89b-d3b0-4c97-badb-172ce6e3d8b5",
   "metadata": {},
   "source": [
    "#### *** Code Blocks"
   ]
  },
  {
   "cell_type": "markdown",
   "id": "3b0c5290-0cca-424e-a9d8-6efa1aada2b0",
   "metadata": {},
   "source": [
    "1. Open the file.\n",
    "2. Find the following code block on line 21:\n",
    "\n",
    "        <html>\n",
    "            <head>\n",
    "                <title>Test</title>\n",
    "            </head> \n",
    "    \n",
    "3. Update the title to match the name of your website.    "
   ]
  },
  {
   "cell_type": "markdown",
   "id": "751a378b-ca7d-4c47-b4d9-6983ff2573c5",
   "metadata": {},
   "source": [
    "#### *** Images"
   ]
  },
  {
   "cell_type": "markdown",
   "id": "e631e570-4957-44eb-a449-02c710bbe445",
   "metadata": {},
   "source": [
    "1. Open the file containing Tux, the Linux mascot.\n",
    "2. Marvel at it beauty.\n",
    "\n",
    "    ![Tux](images/tux.jpg)\n",
    "    \n",
    "3. Close the file."
   ]
  },
  {
   "cell_type": "markdown",
   "id": "ff31169a-569f-448f-bdd7-fbd8c33ef59c",
   "metadata": {},
   "source": [
    "## * Code"
   ]
  },
  {
   "cell_type": "markdown",
   "id": "8abc8a3b-66f4-4a22-a4f2-a88fae636c83",
   "metadata": {},
   "source": [
    "At the command prompt, type `nano`."
   ]
  },
  {
   "cell_type": "markdown",
   "id": "0637ad0b-e31a-40b5-8e4f-9a722eac350b",
   "metadata": {},
   "source": [
    "### ** Escaping Tick Marks"
   ]
  },
  {
   "cell_type": "markdown",
   "id": "4f5c6171-e96e-4afb-a032-a36f31034473",
   "metadata": {},
   "source": [
    "``Use `code` in your Markdown file.``"
   ]
  },
  {
   "cell_type": "markdown",
   "id": "73bb0adc-b320-4b3e-b91b-edd1255f4c42",
   "metadata": {},
   "source": [
    "### ** Code Blocks"
   ]
  },
  {
   "cell_type": "markdown",
   "id": "233e9c47-da96-4802-81c8-08ed0621eca0",
   "metadata": {},
   "source": [
    "    <html>\n",
    "        <head>\n",
    "        </head>\n",
    "    </html>"
   ]
  },
  {
   "cell_type": "markdown",
   "id": "fd0b712b-2f7d-4c38-8d80-9998a2f19680",
   "metadata": {},
   "source": [
    "## * Horizontal Rules"
   ]
  },
  {
   "cell_type": "markdown",
   "id": "23c2b4b3-9f50-4b20-91b7-81ff4cc9dbd5",
   "metadata": {},
   "source": [
    "***"
   ]
  },
  {
   "cell_type": "markdown",
   "id": "a8b6db13-75b2-485d-8a5b-e098db9ed269",
   "metadata": {},
   "source": [
    "---"
   ]
  },
  {
   "cell_type": "markdown",
   "id": "aa645df8-b62c-4033-aa39-3b2cc0cc07d0",
   "metadata": {},
   "source": [
    "___"
   ]
  },
  {
   "cell_type": "markdown",
   "id": "2dbd3201-bc2b-4583-b043-3912f75952a6",
   "metadata": {},
   "source": [
    "## * Links"
   ]
  },
  {
   "cell_type": "markdown",
   "id": "80d281af-6f60-425a-8e39-6635839d7e13",
   "metadata": {},
   "source": [
    "Use [Duck Duck Go](https://duckduckgo.com)."
   ]
  },
  {
   "cell_type": "markdown",
   "id": "f32c3128-fe7b-4106-a1e7-75afad13e587",
   "metadata": {},
   "source": [
    "### ** Adding Titles"
   ]
  },
  {
   "cell_type": "markdown",
   "id": "fc460327-7789-4141-87d3-90d7ea29f7be",
   "metadata": {},
   "source": [
    "Use [Duck Duck Go](https://duckduckgo.com \"My search engine!\")"
   ]
  },
  {
   "cell_type": "markdown",
   "id": "1409e338-4929-4282-bcbd-4620d0689a71",
   "metadata": {},
   "source": [
    "## * URLs and Email Addresses"
   ]
  },
  {
   "cell_type": "markdown",
   "id": "25ecfa4e-15bb-4263-857b-f0382a5f9ad4",
   "metadata": {},
   "source": [
    "<https://eff.org>  \n",
    "<fake@example.com>"
   ]
  },
  {
   "cell_type": "markdown",
   "id": "605676c1-50f1-445f-94a7-8695486dba0c",
   "metadata": {},
   "source": [
    "### ** Formatting Links"
   ]
  },
  {
   "cell_type": "markdown",
   "id": "8656b612-7c61-4bc4-b363-95317ca7979c",
   "metadata": {},
   "source": [
    "I love supporting **[EFF](https://eff.org)**.  \n",
    "I love support the *[EFF](https://eff.org)*."
   ]
  },
  {
   "cell_type": "markdown",
   "id": "d34ac259-7f4b-4e23-8ca1-7308fd1cc23e",
   "metadata": {},
   "source": [
    "## * Images"
   ]
  },
  {
   "cell_type": "markdown",
   "id": "4e6299ea-a60d-4690-bd97-797b54ae0b12",
   "metadata": {},
   "source": [
    "![Efficient Linux Command Line](images/tux.jpg \"I love Linux\")"
   ]
  }
 ],
 "metadata": {
  "kernelspec": {
   "display_name": "Python 3 (ipykernel)",
   "language": "python",
   "name": "python3"
  },
  "language_info": {
   "codemirror_mode": {
    "name": "ipython",
    "version": 3
   },
   "file_extension": ".py",
   "mimetype": "text/x-python",
   "name": "python",
   "nbconvert_exporter": "python",
   "pygments_lexer": "ipython3",
   "version": "3.8.15"
  }
 },
 "nbformat": 4,
 "nbformat_minor": 5
}
