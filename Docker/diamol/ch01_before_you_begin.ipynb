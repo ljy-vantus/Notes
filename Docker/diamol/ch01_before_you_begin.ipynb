{
 "cells": [
  {
   "cell_type": "markdown",
   "id": "678f417d-a8c4-45cc-8ec1-8855efc7ac6a",
   "metadata": {},
   "source": [
    "# Chapter 1: Before you begin"
   ]
  },
  {
   "cell_type": "markdown",
   "id": "c663110e-3d64-415f-88df-35727e34eb28",
   "metadata": {},
   "source": [
    "### 1.3.2 Verifying your Docker setup"
   ]
  },
  {
   "cell_type": "markdown",
   "id": "aac3bd8f-f606-41f9-bd10-58e5cb9ec5cd",
   "metadata": {},
   "source": [
    "`docker version`"
   ]
  },
  {
   "cell_type": "markdown",
   "id": "04d502a4-bcbb-447a-873a-6d44684aea60",
   "metadata": {},
   "source": [
    "`docker-compose version`"
   ]
  },
  {
   "cell_type": "markdown",
   "id": "853eabb2-89af-4c99-bf3e-e77a3923bff0",
   "metadata": {},
   "source": [
    "### 1.3.4 Remembering the cleanup commands"
   ]
  },
  {
   "cell_type": "markdown",
   "id": "6baecd91-0b25-4371-933e-615939a6ec14",
   "metadata": {},
   "source": [
    "clean up containers  \n",
    "`docker container rm -f $(docker container ls -aq)`"
   ]
  },
  {
   "cell_type": "markdown",
   "id": "4d77b2fb-3c64-494c-9b13-eb49af15726c",
   "metadata": {},
   "source": [
    "clean up images  \n",
    "`docker image rm -f $(docker image ls -f reference='diamol/*' -q)`"
   ]
  }
 ],
 "metadata": {
  "kernelspec": {
   "display_name": "Python 3 (ipykernel)",
   "language": "python",
   "name": "python3"
  },
  "language_info": {
   "codemirror_mode": {
    "name": "ipython",
    "version": 3
   },
   "file_extension": ".py",
   "mimetype": "text/x-python",
   "name": "python",
   "nbconvert_exporter": "python",
   "pygments_lexer": "ipython3",
   "version": "3.9.15"
  }
 },
 "nbformat": 4,
 "nbformat_minor": 5
}
