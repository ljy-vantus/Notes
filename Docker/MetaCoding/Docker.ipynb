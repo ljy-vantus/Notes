{
 "cells": [
  {
   "cell_type": "markdown",
   "id": "1cf03a6b-4b3c-41fd-950a-bd57a556d492",
   "metadata": {},
   "source": [
    "## 9강 docker dit옵션과 attatch"
   ]
  },
  {
   "cell_type": "markdown",
   "id": "940d22af-c7d8-4701-949f-dfaebd0923de",
   "metadata": {},
   "source": [
    "![Docker run Options](../data/docker_run_options.png)"
   ]
  },
  {
   "cell_type": "markdown",
   "id": "cc6ffcf7-be8f-4567-9562-dee072e1b75e",
   "metadata": {},
   "source": [
    "`docker run -d --name myubuntu ubuntu` 실행하고 `docker ps`로 확인하면 실행중인 컨테이너가 없습니다."
   ]
  },
  {
   "cell_type": "markdown",
   "id": "58162ce8-c59f-49fb-a471-faab7a4054c5",
   "metadata": {},
   "source": [
    "`docker run -dit --name myubuntu ubuntu`로 실행하면 컨테이너가 실행중인걸로 확인할 수 있습니다."
   ]
  },
  {
   "cell_type": "markdown",
   "id": "ca8b23dd-60d7-497f-9e8c-95089ca7cb56",
   "metadata": {},
   "source": [
    "컨테이너에 이름을 지정하면 나중에 `--link`옵셜 통해서 결합해서 실행할 수 있습니다."
   ]
  },
  {
   "cell_type": "markdown",
   "id": "8d6674da-2654-4d44-a3eb-3be5ac095598",
   "metadata": {},
   "source": [
    "`docker attatch {컨테이너 ID}`명령으로 실행중인 컨테이너에 접근합니다."
   ]
  },
  {
   "cell_type": "markdown",
   "id": "d422e6cd-5509-40f8-abd3-801c80d32b15",
   "metadata": {},
   "source": []
  },
  {
   "cell_type": "markdown",
   "id": "fa5e1c53-0683-4e41-b41f-c5c9d62a2452",
   "metadata": {},
   "source": []
  },
  {
   "cell_type": "markdown",
   "id": "4507cdf2-a726-484e-8294-9a769536856e",
   "metadata": {},
   "source": []
  },
  {
   "cell_type": "markdown",
   "id": "7909bf67-7953-4108-a343-b7c3f1da06f7",
   "metadata": {},
   "source": []
  },
  {
   "cell_type": "markdown",
   "id": "f2416d0a-654e-4bad-a5b5-82d9e4588578",
   "metadata": {},
   "source": []
  },
  {
   "cell_type": "markdown",
   "id": "a8890b4c-be9a-4344-bc47-e1149244ea43",
   "metadata": {},
   "source": []
  }
 ],
 "metadata": {
  "kernelspec": {
   "display_name": "Python 3 (ipykernel)",
   "language": "python",
   "name": "python3"
  },
  "language_info": {
   "codemirror_mode": {
    "name": "ipython",
    "version": 3
   },
   "file_extension": ".py",
   "mimetype": "text/x-python",
   "name": "python",
   "nbconvert_exporter": "python",
   "pygments_lexer": "ipython3",
   "version": "3.9.15"
  }
 },
 "nbformat": 4,
 "nbformat_minor": 5
}
